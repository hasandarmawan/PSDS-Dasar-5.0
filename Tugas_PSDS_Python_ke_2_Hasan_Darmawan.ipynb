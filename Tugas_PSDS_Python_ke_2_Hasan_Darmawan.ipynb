{
  "nbformat": 4,
  "nbformat_minor": 0,
  "metadata": {
    "colab": {
      "provenance": []
    },
    "kernelspec": {
      "name": "python3",
      "display_name": "Python 3"
    },
    "language_info": {
      "name": "python"
    }
  },
  "cells": [
    {
      "cell_type": "code",
      "source": [
        "# Nomor 1. Buatlah program penerapan operator Aritmatika\n",
        "# dengan nilai-nilai yang berbeda dari contoh yang ada\n",
        "\n",
        "# penjumlahan (+)\n",
        "print(0.5+1.25)\n",
        "\n",
        "# pengurangan (-)\n",
        "print(9-7)\n",
        "\n",
        "# perkalian (*)\n",
        "print(7*2)\n",
        "\n",
        "# pembagian (/)\n",
        "print(5/2.5)\n",
        "\n",
        "# modulus (%)\n",
        "print(225)\n",
        "\n",
        "# perpangkatan (**)\n",
        "print(10**3)\n",
        "\n",
        "# pembagian dengan hasil pembulatan floor (//)\n",
        "print(9//2)"
      ],
      "metadata": {
        "colab": {
          "base_uri": "https://localhost:8080/"
        },
        "id": "3hgK6fShp_g2",
        "outputId": "922e92d6-e567-4ba1-c02d-b578b440e669"
      },
      "execution_count": null,
      "outputs": [
        {
          "output_type": "stream",
          "name": "stdout",
          "text": [
            "1.75\n",
            "2\n",
            "14\n",
            "2.0\n",
            "225\n",
            "1000\n",
            "4\n"
          ]
        }
      ]
    },
    {
      "cell_type": "code",
      "source": [
        "# Nomor 2. buatlah program penerapan assignment\n",
        "# # dengan nilai-nilai yang berbeda dari contoh yang ada di atas\n",
        "\n",
        "# penjumlahan (+)\n",
        "\n",
        "x = 3\n",
        "y = 5\n",
        "z= x+y\n",
        "print(z)\n",
        "\n",
        "# pengurangan (-)\n",
        "\n",
        "malas =-1\n",
        "rajin  = 2\n",
        "belajar = 4\n",
        "\n",
        "saya = malas - belajar\n",
        "print(saya)\n",
        "\n",
        "# perkalian (*)\n",
        "\n",
        "I = 0\n",
        "U = 1\n",
        "LOVE = I*U\n",
        "print(LOVE)\n",
        "\n",
        "# pembagian (/)\n",
        "\n",
        "p = 2\n",
        "q = 0.5\n",
        "r = p/q\n",
        "print(r)\n",
        "\n",
        "# modulus (%)\n",
        "\n",
        "a = 15\n",
        "b = 3\n",
        "c = a%b\n",
        "print(c)\n",
        "\n",
        "# perpangkatan (**)\n",
        "\n",
        "x = 5\n",
        "y = 3\n",
        "z = 5**3\n",
        "print(z)\n",
        "\n",
        "# pembagian dengan hasil pembulatan floor (//)\n",
        "\n",
        "Hasan = 170\n",
        "Debat = 4\n",
        "kalah = Hasan//Debat\n",
        "print(kalah)"
      ],
      "metadata": {
        "id": "hF7jymXIp8fc",
        "colab": {
          "base_uri": "https://localhost:8080/"
        },
        "outputId": "68ab327a-2cb7-4766-a28e-f760dd394c98"
      },
      "execution_count": 12,
      "outputs": [
        {
          "output_type": "stream",
          "name": "stdout",
          "text": [
            "8\n",
            "-5\n",
            "0\n",
            "4.0\n",
            "0\n",
            "125\n",
            "42\n"
          ]
        }
      ]
    },
    {
      "cell_type": "code",
      "source": [
        "# Nomor 3. buatlah buatlah program penerapan operator banding\n",
        "# dengan nilai-nilai yang berbeda dari contoh yang ada\n",
        "\n",
        "print(4==4)\n",
        "print(3<4)\n",
        "print(0>2)\n",
        "print(2<=4)\n",
        "print(5>=7)"
      ],
      "metadata": {
        "colab": {
          "base_uri": "https://localhost:8080/"
        },
        "id": "rSqSrpBU8aYA",
        "outputId": "d3b96580-ef3d-4a4e-eebc-b65dbd34cf1c"
      },
      "execution_count": 18,
      "outputs": [
        {
          "output_type": "stream",
          "name": "stdout",
          "text": [
            "True\n",
            "True\n",
            "False\n",
            "True\n",
            "False\n"
          ]
        }
      ]
    },
    {
      "cell_type": "code",
      "source": [
        "# Nomor 4. buatlah buatlah program penerapan operator logika\n",
        "# dengan nilai-nilai yang berbeda dari contoh yang ada\n",
        "\n",
        "print(True or False)\n",
        "print(True or True)\n",
        "print(False or True)\n",
        "print(False or False)\n",
        "\n",
        "print(True and True)\n",
        "print(True and False)\n",
        "print(False and True)\n",
        "print(False and False)"
      ],
      "metadata": {
        "colab": {
          "base_uri": "https://localhost:8080/"
        },
        "id": "DEqFgmBsA_uK",
        "outputId": "dced8c58-072a-44fa-fb85-c2bcbb1ae058"
      },
      "execution_count": null,
      "outputs": [
        {
          "output_type": "stream",
          "name": "stdout",
          "text": [
            "True\n",
            "True\n",
            "True\n",
            "False\n",
            "True\n",
            "False\n",
            "False\n",
            "False\n"
          ]
        }
      ]
    },
    {
      "cell_type": "code",
      "source": [
        "# Nomor 5. buatlah buatlah program penerapan operator logika\n",
        "# dengan nilai-nilai yang berbeda dari contoh yang ada\n",
        "\n",
        "A=[1, 2,3,4,5,6,7]\n",
        "B= 2\n",
        "C = 8\n",
        "print(B in A)\n",
        "print(C not in A)"
      ],
      "metadata": {
        "colab": {
          "base_uri": "https://localhost:8080/"
        },
        "id": "gPoI_BY5AuAV",
        "outputId": "6ace90b7-bac2-4a07-ca6a-208b1099dfd4"
      },
      "execution_count": 23,
      "outputs": [
        {
          "output_type": "stream",
          "name": "stdout",
          "text": [
            "True\n",
            "True\n"
          ]
        }
      ]
    },
    {
      "cell_type": "code",
      "source": [
        "# Soal latihan 1. buatlah 5 variabel kalian sendiri dengan 5 macam tipe\n",
        "# lalu tampilkan variabel menggunakkan fungsi print\n",
        "\n",
        "## 1. Variabel string\n",
        "Hasan = \"Darmawan\"\n",
        "print(Hasan)\n",
        "\n",
        "## 2. Variabel integer\n",
        "bilangan3=3\n",
        "print(bilangan3)\n",
        "\n",
        "## 3. Variabel float\n",
        "bilangan2=0.7\n",
        "print(bilangan2)\n",
        "\n",
        "## 4. variabel boolean\n",
        "bilangan4 = False\n",
        "print(bilangan4)\n",
        "\n",
        "# 5. variabel kompleks\n",
        "bilangan5 = -5j\n",
        "print(bilangan5)\n",
        "\n",
        "# Soal latihan 2. cek tipe data variabel yang sudah ditulis\n",
        "print(type(Hasan))\n",
        "\n",
        "print(type(bilangan3))\n",
        "\n",
        "print(type(bilangan2))\n",
        "\n",
        "print(type(bilangan4))\n",
        "\n",
        "print(type(bilangan5))\n",
        "\n",
        "# Soal latihan 3. konversi tipe data yang telah kalian buat\n",
        "# Berbagai macam tipe data\n",
        "\n",
        "print(int(bilangan3))\n",
        "print(complex(bilangan3))\n",
        "print(float(bilangan3))\n",
        "print(bool(bilangan3))\n",
        "print(int(bilangan2))\n",
        "print(complex(bilangan2))\n",
        "print(float(bilangan2))\n",
        "print(bool(bilangan2))\n",
        "print(int(bilangan4))\n",
        "print(complex(bilangan4))\n",
        "print(float(bilangan4))\n",
        "print(bool(bilangan4))\n",
        "print(complex(bilangan5))\n",
        "print(bool(bilangan5))"
      ],
      "metadata": {
        "id": "QIspm1a7Be0O",
        "colab": {
          "base_uri": "https://localhost:8080/"
        },
        "outputId": "e98e8dd4-e080-4cfb-8b19-25553c36c91e"
      },
      "execution_count": 43,
      "outputs": [
        {
          "output_type": "stream",
          "name": "stdout",
          "text": [
            "Darmawan\n",
            "3\n",
            "0.7\n",
            "False\n",
            "(-0-5j)\n",
            "<class 'str'>\n",
            "<class 'int'>\n",
            "<class 'float'>\n",
            "<class 'bool'>\n",
            "<class 'complex'>\n",
            "3\n",
            "(3+0j)\n",
            "3.0\n",
            "True\n",
            "0\n",
            "(0.7+0j)\n",
            "0.7\n",
            "True\n",
            "0\n",
            "0j\n",
            "0.0\n",
            "False\n",
            "(-0-5j)\n",
            "True\n"
          ]
        }
      ]
    }
  ]
}