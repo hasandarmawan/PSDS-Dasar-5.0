{
  "nbformat": 4,
  "nbformat_minor": 0,
  "metadata": {
    "colab": {
      "provenance": []
    },
    "kernelspec": {
      "name": "python3",
      "display_name": "Python 3"
    },
    "language_info": {
      "name": "python"
    }
  },
  "cells": [
    {
      "cell_type": "code",
      "execution_count": null,
      "metadata": {
        "id": "qgvrxtswDFiI"
      },
      "outputs": [],
      "source": [
        "for val in sequence:\n",
        "  loop body"
      ]
    },
    {
      "cell_type": "code",
      "source": [
        "# Program untuk Menghitung Jumlah Semua Angka dalam Sebuah List\n",
        "L1 = [2, 4, 5, 7, 9]\n",
        "jumlah = 0\n",
        "\n",
        "# Iterasi di dalam List\n",
        "for i in L1:\n",
        "  jumlah = jumlah + i\n",
        "\n",
        "print(jumlah)"
      ],
      "metadata": {
        "colab": {
          "base_uri": "https://localhost:8080/"
        },
        "id": "kNGxftcv8H3b",
        "outputId": "cbf8cd47-81da-4f0c-a0f0-cf549fc1869e"
      },
      "execution_count": 1,
      "outputs": [
        {
          "output_type": "stream",
          "name": "stdout",
          "text": [
            "27\n"
          ]
        }
      ]
    },
    {
      "cell_type": "code",
      "source": [
        "# Program untuk Melakukan Iterasi di dalam List melalui Indeks\n",
        "minuman = [\"Teh\", \"Boba\", \"Kopi\", \"Susu\"]\n",
        "p = len(minuman)\n",
        "\n",
        "# Iterasi di dalam List melalui Indeks\n",
        "for i in range(p):\n",
        "  print(minuman[i])"
      ],
      "metadata": {
        "colab": {
          "base_uri": "https://localhost:8080/"
        },
        "id": "4OQbSkIF8XKP",
        "outputId": "824e68bb-c214-4fe0-ae15-6b9bc8b21f70"
      },
      "execution_count": 15,
      "outputs": [
        {
          "output_type": "stream",
          "name": "stdout",
          "text": [
            "Teh\n",
            "Boba\n",
            "Kopi\n",
            "Susu\n"
          ]
        }
      ]
    },
    {
      "cell_type": "code",
      "source": [
        "# Contoh for loop Menggunakan else\n",
        "minuman = [\"Teh\", \"Boba\", \"Kopi\", \"Susu\"]\n",
        "p = len(minuman)\n",
        "\n",
        "for i in range(p):\n",
        "  print(minuman[i])\n",
        "else:\n",
        "  print(\"Elemen Sudah Habis\")"
      ],
      "metadata": {
        "colab": {
          "base_uri": "https://localhost:8080/"
        },
        "id": "Xkl17X8Q8Zrj",
        "outputId": "8922c011-d7e9-42cf-c4b4-0ba09ef6ec00"
      },
      "execution_count": 14,
      "outputs": [
        {
          "output_type": "stream",
          "name": "stdout",
          "text": [
            "Teh\n",
            "Boba\n",
            "Kopi\n",
            "Susu\n",
            "Elemen Sudah Habis\n"
          ]
        }
      ]
    },
    {
      "cell_type": "code",
      "source": [
        "while test_expression:\n",
        "  Body of while"
      ],
      "metadata": {
        "id": "keJ6VBbpFJIG"
      },
      "execution_count": null,
      "outputs": []
    },
    {
      "cell_type": "code",
      "source": [
        "# Program untuk Menjumlahkan Semua\n",
        "# Bilangan Asli Hingga Suku ke-n\n",
        "# Jum = 1 + 2 + 3 + ... + n\n",
        "\n",
        "n = 10\n",
        "jumlah = 0\n",
        "i = 1\n",
        "\n",
        "while i <= n:\n",
        "  jumlah = jumlah + i\n",
        "  i = i + 1\n",
        "\n",
        "print(jumlah)"
      ],
      "metadata": {
        "colab": {
          "base_uri": "https://localhost:8080/"
        },
        "id": "yyNF_mAD8gnA",
        "outputId": "2d3f5edf-1906-4307-8f9e-33b7aa445e3c"
      },
      "execution_count": 11,
      "outputs": [
        {
          "output_type": "stream",
          "name": "stdout",
          "text": [
            "55\n"
          ]
        }
      ]
    },
    {
      "cell_type": "code",
      "source": [
        "jum = 0\n",
        "i = 1\n",
        "while i <= n:\n",
        "  jum = jum + i\n",
        "  i = i + 1\n",
        "else:\n",
        "  print(jum) # Dieksekusi diluar Looping"
      ],
      "metadata": {
        "colab": {
          "base_uri": "https://localhost:8080/"
        },
        "id": "xZh2iyIf8iW3",
        "outputId": "25b46037-f184-4931-9e85-eed276fee95c"
      },
      "execution_count": 10,
      "outputs": [
        {
          "output_type": "stream",
          "name": "stdout",
          "text": [
            "55\n"
          ]
        }
      ]
    },
    {
      "cell_type": "code",
      "source": [
        "if test expression:\n",
        "  statement(s)"
      ],
      "metadata": {
        "id": "V0OrVz1p8l5p"
      },
      "execution_count": null,
      "outputs": []
    },
    {
      "cell_type": "code",
      "source": [
        "# Jika Angka adalah Bilangan Positif maka print \"adalah Bilangan Positif\"\n",
        "\n",
        "angka = 3\n",
        "if angka > 0:\n",
        "  print(angka, \"adalah Bilangan Positif.\")\n",
        "print(\"Pernyataan ini Selalu Ditampilkan\")\n",
        "\n",
        "angka = -1\n",
        "if angka > 0:\n",
        "  print(angka, \"adalah Bilangan Positif.\")\n",
        "print(\"Pernyataan ini juga Selalu Ditampilkan\")"
      ],
      "metadata": {
        "colab": {
          "base_uri": "https://localhost:8080/"
        },
        "id": "SBh8z7fS8nwr",
        "outputId": "bc798482-921b-4d33-b05a-b8531b25c932"
      },
      "execution_count": 9,
      "outputs": [
        {
          "output_type": "stream",
          "name": "stdout",
          "text": [
            "3 adalah Bilangan Positif.\n",
            "Pernyataan ini Selalu Ditampilkan\n",
            "Pernyataan ini juga Selalu Ditampilkan\n"
          ]
        }
      ]
    },
    {
      "cell_type": "code",
      "source": [
        "list_tagihan = [50000, 75000, -150000, 125000, 300000, -50000, 200000]\n",
        "total_tagihan = 0\n",
        "\n",
        "for i in list_tagihan:\n",
        "  total_tagihan += i\n",
        "\n",
        "print(total_tagihan)"
      ],
      "metadata": {
        "colab": {
          "base_uri": "https://localhost:8080/"
        },
        "id": "NAw69MxXE6am",
        "outputId": "78c58461-5025-48b6-d8d2-6addd670d58e"
      },
      "execution_count": 8,
      "outputs": [
        {
          "output_type": "stream",
          "name": "stdout",
          "text": [
            "550000\n"
          ]
        }
      ]
    },
    {
      "cell_type": "code",
      "source": [
        "tagihan = [50000, 75000, 125000, 300000, 200000]\n",
        "total_tagihan = 0\n",
        "p = len(tagihan)\n",
        "i = 1\n",
        "\n",
        "while i <= p:\n",
        "  total_tagihan = total_tagihan + tagihan[i-1]\n",
        "  i = i + 1\n",
        "else:\n",
        "  print(total_tagihan)"
      ],
      "metadata": {
        "colab": {
          "base_uri": "https://localhost:8080/"
        },
        "id": "M26vbcSHE_tv",
        "outputId": "180ffd70-0043-4de8-daf5-84c7b2abcf34"
      },
      "execution_count": 7,
      "outputs": [
        {
          "output_type": "stream",
          "name": "stdout",
          "text": [
            "750000\n"
          ]
        }
      ]
    }
  ]
}