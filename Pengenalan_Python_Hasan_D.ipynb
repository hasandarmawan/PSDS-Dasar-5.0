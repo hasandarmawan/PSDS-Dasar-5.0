{
  "nbformat": 4,
  "nbformat_minor": 0,
  "metadata": {
    "colab": {
      "provenance": []
    },
    "kernelspec": {
      "name": "python3",
      "display_name": "Python 3"
    },
    "language_info": {
      "name": "python"
    }
  },
  "cells": [
    {
      "cell_type": "markdown",
      "source": [
        "PYTHON\n",
        "Pengenalan Python"
      ],
      "metadata": {
        "id": "0Zq734uFuL4m"
      }
    },
    {
      "cell_type": "code",
      "execution_count": null,
      "metadata": {
        "colab": {
          "base_uri": "https://localhost:8080/"
        },
        "id": "qZhhph_2tMVb",
        "outputId": "6a9df556-2ba5-4908-819e-5d62e5af48ae"
      },
      "outputs": [
        {
          "output_type": "stream",
          "name": "stdout",
          "text": [
            "Hallo Hasan\n",
            "Semangat\n"
          ]
        }
      ],
      "source": [
        "# 1. statement\n",
        "## Statement adalah instruksi atau kalimat perintah yang diberikan dalam beberapa baris untuk dieksekusi oleh komputer\n",
        "\n",
        "print(\"Hallo Hasan\")\n",
        "print(\"Semangat\")\n"
      ]
    },
    {
      "cell_type": "code",
      "source": [
        "# 2. Variables\n",
        "## Variabel merupakan tempat penyimpanan sementara yang dapat digunakan untuk menyimpan data atau informasi. Variabel bersifat mutable, artinya nilai yang ada di dalam variabel dapat diubah, Nilai yang ada di dalam variabel pun dapat berupa bilangan maupun kata.\n",
        "\n",
        "a = 3\n",
        "b = 4\n",
        "c = \"Statement\""
      ],
      "metadata": {
        "id": "dEV5g2v7vDzs"
      },
      "execution_count": null,
      "outputs": []
    },
    {
      "cell_type": "code",
      "source": [
        "# 3. Literals\n",
        "## Adapun literals merupakan simbol yang dapat digunakan untuk mengisi suatu variabel.\n",
        "\n",
        "a = 3\n",
        "b = 4\n",
        "c = \"Statement\"\n",
        "\n",
        "### maka Literalsnya adalah 3, 4, 'statement'.\n"
      ],
      "metadata": {
        "id": "Otg-NW48vbEY"
      },
      "execution_count": null,
      "outputs": []
    },
    {
      "cell_type": "code",
      "source": [
        "# 4. Operators : Simbol-simbol yang dapat digunakan untuk mengubah nilai dari satu variable dengan melibatkan satu atau lebih variable dan literal\n",
        "\n",
        "2 + 2\n",
        "4*3\n",
        "2**3\n",
        "4/2\n",
        "a = 9\n",
        "b = 5\n",
        "a - b"
      ],
      "metadata": {
        "colab": {
          "base_uri": "https://localhost:8080/"
        },
        "id": "1VZV1HOhwD-g",
        "outputId": "6d429503-df13-4815-d91d-8bbf77a97964"
      },
      "execution_count": null,
      "outputs": [
        {
          "output_type": "execute_result",
          "data": {
            "text/plain": [
              "4"
            ]
          },
          "metadata": {},
          "execution_count": 10
        }
      ]
    },
    {
      "cell_type": "code",
      "source": [
        "# 5. Reserved Words : Kumpulan kata-kata yang memiliki makna khusus dalam bahasa pemrograman Phyton. Kata false , return , dan for merupakan contoh dari reserved words.\n",
        "\n",
        "a = 2\n",
        "for a in range(a>0):\n",
        "  print(\"Positif\")\n"
      ],
      "metadata": {
        "colab": {
          "base_uri": "https://localhost:8080/"
        },
        "id": "kdBOBMgMwqtr",
        "outputId": "f9c50920-7894-432f-bbcc-20992e5d949f"
      },
      "execution_count": 27,
      "outputs": [
        {
          "output_type": "stream",
          "name": "stdout",
          "text": [
            "Positif\n"
          ]
        }
      ]
    },
    {
      "cell_type": "code",
      "source": [
        "# 6. Whitespace : Pada bahasa Phyton, spasi dan tab memiliki makna khusus untuk menandai serangkaian blok dalam kode Phyton.\n",
        "\n"
      ],
      "metadata": {
        "id": "WDuvCCIAxwrx"
      },
      "execution_count": null,
      "outputs": []
    },
    {
      "cell_type": "code",
      "source": [
        "# 7. Comments: Comments merupakan sekumpulan teks yang dituliskan di dalam sebuah program yang tidak akan mempengaruhi hasil dari sebuah pemrograman.\n",
        "\n",
        "## a. single line comment (comments dalam satu baris) seperti contoh berikut:\n",
        "\n",
        "### Haloooo\n",
        "\n",
        "## b. multi line comment (comments dalam beberapa baris)\n",
        "\n",
        "'''\n",
        "Ini adalah komentar panjang\n",
        "Bisa digunakan untuk memberikan penjelasan\n",
        "panjang pada Sell Kode Phyton,\n",
        "Misal dokumentasi program, spesifikasi\n",
        "input output atau lainnya\n",
        "'''"
      ],
      "metadata": {
        "colab": {
          "base_uri": "https://localhost:8080/",
          "height": 53
        },
        "id": "B3pRilxiz5LQ",
        "outputId": "0d0aba6a-e569-4063-deec-36f2f5fb8158"
      },
      "execution_count": 31,
      "outputs": [
        {
          "output_type": "execute_result",
          "data": {
            "text/plain": [
              "'\\nIni adalah komentar panjang\\nBisa digunakan untuk memberikan penjelasan\\npanjang pada Sell Kode Phyton,\\nMisal dokumentasi program, spesifikasi\\ninput output atau lainnya\\n'"
            ],
            "application/vnd.google.colaboratory.intrinsic+json": {
              "type": "string"
            }
          },
          "metadata": {},
          "execution_count": 31
        }
      ]
    }
  ]
}