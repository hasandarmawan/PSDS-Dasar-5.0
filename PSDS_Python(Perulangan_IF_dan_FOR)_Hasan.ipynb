{
  "nbformat": 4,
  "nbformat_minor": 0,
  "metadata": {
    "colab": {
      "provenance": []
    },
    "kernelspec": {
      "name": "python3",
      "display_name": "Python 3"
    },
    "language_info": {
      "name": "python"
    }
  },
  "cells": [
    {
      "cell_type": "code",
      "execution_count": null,
      "metadata": {
        "id": "qgvrxtswDFiI"
      },
      "outputs": [],
      "source": [
        "for val in sequence:\n",
        "  loop body"
      ]
    },
    {
      "cell_type": "code",
      "source": [
        "# Program untuk Menghitung Jumlah Semua Angka dalam Sebuah List\n",
        "L1 = [2, 4, 5, 7, 9]\n",
        "jumlah = 0\n",
        "\n",
        "# Iterasi di dalam List\n",
        "for i in L1:\n",
        "  jumlah = jumlah + i\n",
        "\n",
        "print(jumlah)"
      ],
      "metadata": {
        "colab": {
          "base_uri": "https://localhost:8080/"
        },
        "id": "kNGxftcv8H3b",
        "outputId": "cbf8cd47-81da-4f0c-a0f0-cf549fc1869e"
      },
      "execution_count": 1,
      "outputs": [
        {
          "output_type": "stream",
          "name": "stdout",
          "text": [
            "27\n"
          ]
        }
      ]
    },
    {
      "cell_type": "code",
      "source": [
        "# Program untuk Melakukan Iterasi di dalam List melalui Indeks\n",
        "minuman = [\"Teh\", \"Boba\", \"Kopi\", \"Susu\"]\n",
        "p = len(minuman)\n",
        "\n",
        "# Iterasi di dalam List melalui Indeks\n",
        "for i in range(p):\n",
        "  print(minuman[i])"
      ],
      "metadata": {
        "id": "4OQbSkIF8XKP"
      },
      "execution_count": null,
      "outputs": []
    },
    {
      "cell_type": "code",
      "source": [
        "# Contoh for loop Menggunakan else\n",
        "for i in range(p):\n",
        "  print(minuman[i])\n",
        "else:\n",
        "  print(\"Elemen Sudah Habis\")"
      ],
      "metadata": {
        "id": "Xkl17X8Q8Zrj"
      },
      "execution_count": null,
      "outputs": []
    },
    {
      "cell_type": "code",
      "source": [
        "while test_expression:\n",
        "  Body of while"
      ],
      "metadata": {
        "colab": {
          "base_uri": "https://localhost:8080/",
          "height": 130
        },
        "id": "bo-T_rDo8dW5",
        "outputId": "3ae0efe2-0750-4b78-ea82-a7e3b53c243c"
      },
      "execution_count": 2,
      "outputs": [
        {
          "output_type": "error",
          "ename": "SyntaxError",
          "evalue": "ignored",
          "traceback": [
            "\u001b[0;36m  File \u001b[0;32m\"<ipython-input-2-b34a4e532182>\"\u001b[0;36m, line \u001b[0;32m2\u001b[0m\n\u001b[0;31m    Body of while\u001b[0m\n\u001b[0m         ^\u001b[0m\n\u001b[0;31mSyntaxError\u001b[0m\u001b[0;31m:\u001b[0m invalid syntax\n"
          ]
        }
      ]
    },
    {
      "cell_type": "code",
      "source": [
        "# Program untuk Menjumlahkan Semua\n",
        "# Bilangan Asli Hingga Suku ke-n\n",
        "# Jum = 1 + 2 + 3 + ... + n\n",
        "\n",
        "n = 10\n",
        "jumlah = 0\n",
        "i = 1\n",
        "\n",
        "while i <= n:\n",
        "  jumlah = jumlah + i\n",
        "  i = i + 1\n",
        "\n",
        "print(jumlah)"
      ],
      "metadata": {
        "colab": {
          "base_uri": "https://localhost:8080/"
        },
        "id": "yyNF_mAD8gnA",
        "outputId": "0c09d375-a8ca-4205-c00c-4cd725776824"
      },
      "execution_count": 3,
      "outputs": [
        {
          "output_type": "stream",
          "name": "stdout",
          "text": [
            "55\n"
          ]
        }
      ]
    },
    {
      "cell_type": "code",
      "source": [
        "jum = 0\n",
        "i = 1\n",
        "while i <= n:\n",
        "  jum = jum + i\n",
        "  i = i + 1\n",
        "else:\n",
        "  print(jum) # Dieksekusi diluar Looping"
      ],
      "metadata": {
        "id": "xZh2iyIf8iW3"
      },
      "execution_count": null,
      "outputs": []
    },
    {
      "cell_type": "code",
      "source": [
        "if test expression:\n",
        "  statement(s)"
      ],
      "metadata": {
        "id": "V0OrVz1p8l5p"
      },
      "execution_count": null,
      "outputs": []
    },
    {
      "cell_type": "code",
      "source": [
        "# Jika Angka adalah Bilangan Positif maka print \"adalah Bilangan Positif\"\n",
        "\n",
        "angka = 3\n",
        "if angka > 0:\n",
        "  print(angka, \"adalah Bilangan Positif.\")\n",
        "print(\"Pernyataan ini Selalu Ditampilkan\")\n",
        "\n",
        "angka = -1\n",
        "if angka > 0:\n",
        "  print(angka, \"adalah Bilangan Positif.\")\n",
        "print(\"Pernyataan ini juga Selalu Ditampilkan\")"
      ],
      "metadata": {
        "id": "SBh8z7fS8nwr"
      },
      "execution_count": null,
      "outputs": []
    },
    {
      "cell_type": "code",
      "source": [
        "if test expression:\n",
        "  Body of if\n",
        "else:\n",
        "  Body of else"
      ],
      "metadata": {
        "colab": {
          "base_uri": "https://localhost:8080/",
          "height": 130
        },
        "id": "bt1xJzN784zZ",
        "outputId": "b5d6b1f4-596a-4e78-9a43-b3b0f7108296"
      },
      "execution_count": 4,
      "outputs": [
        {
          "output_type": "error",
          "ename": "SyntaxError",
          "evalue": "ignored",
          "traceback": [
            "\u001b[0;36m  File \u001b[0;32m\"<ipython-input-4-3fa874a7fb7b>\"\u001b[0;36m, line \u001b[0;32m1\u001b[0m\n\u001b[0;31m    if test expression:\u001b[0m\n\u001b[0m            ^\u001b[0m\n\u001b[0;31mSyntaxError\u001b[0m\u001b[0;31m:\u001b[0m invalid syntax\n"
          ]
        }
      ]
    },
    {
      "cell_type": "code",
      "source": [
        "# Program Disusun untuk Mengecek Apakah Angka Tersebut Kurang dari 0 atau Tidak\n",
        "# dan Menampilkan Tulisan yang Sesuai\n",
        "\n",
        "angka = 3\n",
        "\n",
        "if angka >= 0:\n",
        "  print(\"Bilangan Lebih dari atau Samadengan 0\")\n",
        "else:\n",
        "  print(\"Bilangan Kurang dari 0\")"
      ],
      "metadata": {
        "id": "O6xNwEZD8-1J"
      },
      "execution_count": null,
      "outputs": []
    },
    {
      "cell_type": "code",
      "source": [
        "# Program Disusun untuk Mengecek Apakah Dua Buah Angka Sama atau Tidak\n",
        "# dan Menampilkan Tulisan yang Sesuia\n",
        "\n",
        "a = 5\n",
        "b = 5\n",
        "\n",
        "if a == b:\n",
        "  print(\"a dan b Bernilai Sama\")\n",
        "else:\n",
        "  print(\"a dan b Bernilai Berbeda\")\n",
        "  print(\"elajar If Else\")"
      ],
      "metadata": {
        "id": "8zWRQbXQ9DG9"
      },
      "execution_count": null,
      "outputs": []
    },
    {
      "cell_type": "code",
      "source": [
        "# Program Disusun untuk Mengecek Apakah Perbandingan dua Buah Angka\n",
        "# dan Menampilkan Tulisan yang Sesuai\n",
        "\n",
        "# Membaca Dua Angka\n",
        "bil1 = int(input(\"Masukkan Bilangan Pertama : \"))\n",
        "bil2 = int(input(\"Masukkan Bilangan Kedua : \"))\n",
        "\n",
        "# Memilih Bilangan yang Lebih Besar\n",
        "if bil1 > bil2:\n",
        "  bil_bulat_terbesar = bil1\n",
        "else:\n",
        "  bil_bulat_terbesar = bil2\n",
        "\n",
        "# Menampilkan Hasil\n",
        "print(\"Bilangan yang Lebih Besar adalah :\", bil_bulat_terbesar)"
      ],
      "metadata": {
        "id": "hFuWWOlX9FdY"
      },
      "execution_count": null,
      "outputs": []
    },
    {
      "cell_type": "code",
      "source": [
        "if test expression:\n",
        "  Body of if\n",
        "elif test expression:\n",
        "  Body of elif\n",
        "else:\n",
        "  Body of else"
      ],
      "metadata": {
        "id": "0VhOSByD9IG_"
      },
      "execution_count": null,
      "outputs": []
    },
    {
      "cell_type": "code",
      "source": [
        "# Program Disusun untuk Mengecek Apakah Angka Merupakan Bilangan Positif, Negatif, atau Nol\n",
        "# dan Menampilkan Tulisan yang Sesuai\n",
        "\n",
        "angka = 3.4\n",
        "\n",
        "if angka > 0:\n",
        "  print(\"Bilangan Positif\")\n",
        "elif angka == 0:\n",
        "  print(\"Nol\")\n",
        "else:\n",
        "  print(\"Bilangan Negatif\")"
      ],
      "metadata": {
        "id": "wBOcMuOu9KSC"
      },
      "execution_count": null,
      "outputs": []
    },
    {
      "cell_type": "code",
      "source": [
        "# Satement If\n",
        "x = 4\n",
        "if x % 2 == 0: # Jika x Dibagi 2 Sisanya Samadengan 0\n",
        "  print(\"x Habis Dibagi Dua\")\n",
        "\n",
        "# Statement if ... elif ... else\n",
        "x = 7\n",
        "if x % 2 == 0: # Jika x Dibagi 2 Sisanya Samadengan 0\n",
        "  print(\"x Habis Dibagi Dua\")\n",
        "elif x % 3 == 0: # Jika x Dibagi 3 Sisanya Samadengan 0\n",
        "  print(\"x Habis Dibagi Tiga\")\n",
        "elif x % 5 == 0: # Jika x Dibagi 5 Sisanya Samadengan 0\n",
        "  print(\"x Habis Dibagi Lima\")\n",
        "else:\n",
        "  print(\"x Tidak Habis Dibagi Dua, Tiga, ataupun Lima\")"
      ],
      "metadata": {
        "colab": {
          "base_uri": "https://localhost:8080/"
        },
        "id": "E-j5GIY89M-e",
        "outputId": "1925297b-b342-431c-faed-0578ff7bb1be"
      },
      "execution_count": 6,
      "outputs": [
        {
          "output_type": "stream",
          "name": "stdout",
          "text": [
            "x Habis Dibagi Dua\n",
            "x Tidak Habis Dibagi Dua, Tiga, ataupun Lima\n"
          ]
        }
      ]
    },
    {
      "cell_type": "code",
      "source": [
        "# Program Disusun untuk Mengecek Apakah Angka Merupakan Bilangan Positif, Negatif, atau Nol\n",
        "# dan Menampilkan Tulisan yang Sesuai\n",
        "\n",
        "angka = float(input(\"Masukkan Angka : \"))\n",
        "if angka >= 0:\n",
        "  if angka == 0:\n",
        "    print(\"Nol\")\n",
        "  else:\n",
        "    print(\"Bilangan Positif\")\n",
        "else:\n",
        "  print(\"Bilangan Negatif\")"
      ],
      "metadata": {
        "colab": {
          "base_uri": "https://localhost:8080/"
        },
        "id": "f3y9Aii39QJ0",
        "outputId": "9ae5048c-6e86-46f7-bdcf-b3713372dfd0"
      },
      "execution_count": 5,
      "outputs": [
        {
          "output_type": "stream",
          "name": "stdout",
          "text": [
            "Masukkan Angka : 3\n",
            "Bilangan Positif\n"
          ]
        }
      ]
    }
  ]
}