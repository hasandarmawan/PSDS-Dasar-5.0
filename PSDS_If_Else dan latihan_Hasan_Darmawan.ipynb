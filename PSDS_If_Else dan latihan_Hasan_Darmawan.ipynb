{
  "nbformat": 4,
  "nbformat_minor": 0,
  "metadata": {
    "colab": {
      "provenance": []
    },
    "kernelspec": {
      "name": "python3",
      "display_name": "Python 3"
    },
    "language_info": {
      "name": "python"
    }
  },
  "cells": [
    {
      "cell_type": "code",
      "execution_count": null,
      "metadata": {
        "id": "oBKbUKLEGGAh"
      },
      "outputs": [],
      "source": [
        "if test expression:\n",
        "  Body of if\n",
        "else:\n",
        "  Body of else"
      ]
    },
    {
      "cell_type": "code",
      "source": [
        "# Program Disusun untuk Mengecek Apakah Angka Tersebut Kurang dari 0 atau Tidak dan Menampilkan Tulisan yang Sesuai\n",
        "\n",
        "angka = 3\n",
        "\n",
        "if angka >= 0:\n",
        "  print(\"Bilangan Lebih dari atau Samadengan 0\")\n",
        "else:\n",
        "  print(\"Bilangan Kurang dari 0\")"
      ],
      "metadata": {
        "colab": {
          "base_uri": "https://localhost:8080/"
        },
        "id": "hJNrqs3_GW6T",
        "outputId": "b150efb0-4b3e-47c2-a674-87c1d70799b8"
      },
      "execution_count": 1,
      "outputs": [
        {
          "output_type": "stream",
          "name": "stdout",
          "text": [
            "Bilangan Lebih dari atau Samadengan 0\n"
          ]
        }
      ]
    },
    {
      "cell_type": "code",
      "source": [
        "# Program Disusun untuk Mengecek Apakah Dua Buah Angka Sama atau Tidak dan Menampilkan Tulisan yang Sesuia\n",
        "\n",
        "a = 5\n",
        "b = 5\n",
        "\n",
        "if a == b:\n",
        "  print(\"a dan b Bernilai Sama\")\n",
        "else:\n",
        "  print(\"a dan b Bernilai Berbeda\")\n",
        "  print(\"elajar If Else\")"
      ],
      "metadata": {
        "colab": {
          "base_uri": "https://localhost:8080/"
        },
        "id": "kgC1OXtJGcLk",
        "outputId": "28122f70-e3a0-49c4-e47c-cbf5bd8c8bc2"
      },
      "execution_count": 2,
      "outputs": [
        {
          "output_type": "stream",
          "name": "stdout",
          "text": [
            "a dan b Bernilai Sama\n"
          ]
        }
      ]
    },
    {
      "cell_type": "code",
      "source": [
        "# Program Disusun untuk Mengecek Apakah Perbandingan dua Buah Angka dan Menampilkan Tulisan yang Sesuai\n",
        "\n",
        "# Membaca Dua Angka\n",
        "bil1 = int(input(\"Masukkan Bilangan Pertama : \"))\n",
        "bil2 = int(input(\"Masukkan Bilangan Kedua : \"))\n",
        "\n",
        "# Memilih Bilangan yang Lebih Besar\n",
        "if bil1 > bil2:\n",
        "  bil_bulat_terbesar = bil1\n",
        "else:\n",
        "  bil_bulat_terbesar = bil2\n",
        "\n",
        "# Menampilkan Hasil\n",
        "print(\"Bilangan yang Lebih Besar adalah :\", bil_bulat_terbesar)"
      ],
      "metadata": {
        "colab": {
          "base_uri": "https://localhost:8080/"
        },
        "id": "PXyuJUG9GdVj",
        "outputId": "76bcd8f8-49a2-42d3-dc64-5839daa10461"
      },
      "execution_count": 3,
      "outputs": [
        {
          "output_type": "stream",
          "name": "stdout",
          "text": [
            "Masukkan Bilangan Pertama : 4\n",
            "Masukkan Bilangan Kedua : 2\n",
            "Bilangan yang Lebih Besar adalah : 4\n"
          ]
        }
      ]
    },
    {
      "cell_type": "code",
      "source": [
        "if test expression:\n",
        "  Body of if\n",
        "elif test expression:\n",
        "  Body of elif\n",
        "else:\n",
        "  Body of else"
      ],
      "metadata": {
        "id": "7P2Qwqw5Gjra"
      },
      "execution_count": null,
      "outputs": []
    },
    {
      "cell_type": "code",
      "source": [
        "# Program Disusun untuk Mengecek Apakah Angka Merupakan Bilangan Positif, Negatif, atau No dan Menampilkan Tulisan yang Sesuai\n",
        "\n",
        "angka = 3.4\n",
        "\n",
        "if angka > 0:\n",
        "  print(\"Bilangan Positif\")\n",
        "elif angka == 0:\n",
        "  print(\"Nol\")\n",
        "else:\n",
        "  print(\"Bilangan Negatif\")"
      ],
      "metadata": {
        "colab": {
          "base_uri": "https://localhost:8080/"
        },
        "id": "BiXy_wKTGmDV",
        "outputId": "253f40e3-e64b-4f12-87d3-cd1793d79538"
      },
      "execution_count": 4,
      "outputs": [
        {
          "output_type": "stream",
          "name": "stdout",
          "text": [
            "Bilangan Positif\n"
          ]
        }
      ]
    },
    {
      "cell_type": "code",
      "source": [
        "# Satement If\n",
        "x = 4\n",
        "if x % 2 == 0: # Jika x Dibagi 2 Sisanya Samadengan 0\n",
        "  print(\"x Habis Dibagi Dua\")\n",
        "\n",
        "# Statement if ... elif ... else\n",
        "x = 7\n",
        "if x % 2 == 0: # Jika x Dibagi 2 Sisanya Samadengan 0\n",
        "  print(\"x Habis Dibagi Dua\")\n",
        "elif x % 3 == 0: # Jika x Dibagi 3 Sisanya Samadengan 0\n",
        "  print(\"x Habis Dibagi Tiga\")\n",
        "elif x % 5 == 0: # Jika x Dibagi 5 Sisanya Samadengan 0\n",
        "  print(\"x Habis Dibagi Lima\")\n",
        "else:\n",
        "  print(\"x Tidak Habis Dibagi Dua, Tiga, ataupun Lima\")"
      ],
      "metadata": {
        "colab": {
          "base_uri": "https://localhost:8080/"
        },
        "id": "FB1GwnbrGyz9",
        "outputId": "1859ecbb-3842-4801-836e-8b9c7514a41c"
      },
      "execution_count": 5,
      "outputs": [
        {
          "output_type": "stream",
          "name": "stdout",
          "text": [
            "x Habis Dibagi Dua\n",
            "x Tidak Habis Dibagi Dua, Tiga, ataupun Lima\n"
          ]
        }
      ]
    },
    {
      "cell_type": "code",
      "source": [
        "# Program Disusun untuk Mengecek Apakah Angka Merupakan Bilangan Positif, Negatif, atau Nol dan Menampilkan Tulisan yang Sesuai\n",
        "\n",
        "angka = float(input(\"Masukkan Angka : \"))\n",
        "if angka >= 0:\n",
        "  if angka == 0:\n",
        "    print(\"Nol\")\n",
        "  else:\n",
        "    print(\"Bilangan Positif\")\n",
        "else:\n",
        "  print(\"Bilangan Negatif\")"
      ],
      "metadata": {
        "colab": {
          "base_uri": "https://localhost:8080/"
        },
        "id": "-VAEyqJGG4FB",
        "outputId": "fdbb414b-4272-4143-ecb4-4e81b5b83557"
      },
      "execution_count": 6,
      "outputs": [
        {
          "output_type": "stream",
          "name": "stdout",
          "text": [
            "Masukkan Angka : -9\n",
            "Bilangan Negatif\n"
          ]
        }
      ]
    },
    {
      "cell_type": "markdown",
      "source": [
        "Latihan\n",
        "\n",
        "Buatlah fungsi Mahal_Diskon dengan ketentuan sebagai berikut :\n",
        "\n",
        "- Input data merupakan tipe data numerik tunggal\n",
        "- Kategori input adalah \"murah\" dan \"mahal\". Kemudian diskon ada 3 kategori \"10%\", \"20%\", dan \"40%\".\n",
        "- Output berupa sebuah teks/string yang menyatakan \"mahal\" atau \"murah\" dan \"Kamu dapat mendapatkan diskon\"."
      ],
      "metadata": {
        "id": "Ejui-iwRHn2w"
      }
    },
    {
      "cell_type": "code",
      "source": [
        "#Latihan\n",
        "\n",
        "harga_produk = int(input(\"Masukkan Harga Barang : \"))\n",
        "\n",
        "if harga_produk > 300000:\n",
        "  kategori_input = \"Mahal\"\n",
        "  harga_bayar = harga_produk - (harga_produk * 0.4)\n",
        "elif 200000 < harga_produk <= 200000:\n",
        "  kategori_input = \"Murah\"\n",
        "  harga_bayar = harga_produk - (harga_produk * 0.2)\n",
        "elif 0 <= harga_produk <= 100000:\n",
        "  kategori_input = \"Murah\"\n",
        "  harga_bayar = harga_produk - (harga_produk * 0.1)\n",
        "else:\n",
        "  print(\"Masukkan Harga Produk yang Sesuai\")\n",
        "\n",
        "print(f\"{kategori_input}, Harga yang Perlu Dibayar adalah {harga_bayar}\")\n"
      ],
      "metadata": {
        "colab": {
          "base_uri": "https://localhost:8080/"
        },
        "id": "MSshAILzHAq1",
        "outputId": "ce019db1-1f1a-4a73-ce1e-e98da68353ea"
      },
      "execution_count": 7,
      "outputs": [
        {
          "output_type": "stream",
          "name": "stdout",
          "text": [
            "Masukkan Harga Barang : 700000\n",
            "Mahal, Harga yang Perlu Dibayar adalah 420000.0\n"
          ]
        }
      ]
    }
  ]
}
