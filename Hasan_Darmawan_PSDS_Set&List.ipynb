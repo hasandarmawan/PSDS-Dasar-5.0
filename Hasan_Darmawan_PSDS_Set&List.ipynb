{
  "nbformat": 4,
  "nbformat_minor": 0,
  "metadata": {
    "colab": {
      "provenance": []
    },
    "kernelspec": {
      "name": "python3",
      "display_name": "Python 3"
    },
    "language_info": {
      "name": "python"
    }
  },
  "cells": [
    {
      "cell_type": "markdown",
      "source": [
        "List Python\n",
        "\n",
        "Dalam bahasa pemrograman Python, struktur data yang paling dasar adalah urutan atau lists. Setiap elemen-elemen berurutan akan diberi\n",
        "nomor posisi atau indeksnya. Indeks pertama dalam list adalah nol, indeks kedua adalah satu dan seterusnya.\n",
        "Python memiliki enam jenis urutan built-in, namun yang paling umum adalah list dan tuple. Ada beberapa hal yang dapat Anda lakukan dengan\n",
        "semua jenis list. Operasi ini meliputi pengindeksan, pengiris, penambahan, perbanyak, dan pengecekan keanggotaan. Selain itu, Python\n",
        "memiliki fungsi built-in untuk menemukan panjang list dan untuk menemukan elemen terbesar dan terkecilnya."
      ],
      "metadata": {
        "id": "006NK-FT_H_-"
      }
    },
    {
      "cell_type": "markdown",
      "source": [
        "Membuat List Python\n",
        "\n",
        "List adalah tipe data yang paling serbaguna yang tersedia dalam bahasa Python, yang dapat ditulis sebagai daftar nilai yang dipisahkan koma\n",
        "(item) antara tanda kurung siku. Hal penting tentang daftar adalah item dalam list tidak boleh sama jenisnya.\n",
        "Membuat list sangat sederhana, tinggal memasukkan berbagai nilai yang dipisahkan koma di antara tanda kurung siku. Dibawah ini adalah\n",
        "contoh sederhana pembuatan list dalam bahasa Python."
      ],
      "metadata": {
        "id": "F4FOwBU2_chc"
      }
    },
    {
      "cell_type": "code",
      "execution_count": 1,
      "metadata": {
        "id": "9ZBz6l79AJ5Y",
        "colab": {
          "base_uri": "https://localhost:8080/"
        },
        "outputId": "b367d6cd-c87a-4959-82dd-74cc22d0d3bc"
      },
      "outputs": [
        {
          "output_type": "stream",
          "name": "stdout",
          "text": [
            "List 1: ['kimia', 'fisika', 1993, 2017]\n",
            "List 2: [1, 2, 3, 4, 5]\n",
            "List 3: ['a', 'b', 'c', 'd']\n"
          ]
        }
      ],
      "source": [
        "list1 = ['kimia', 'fisika', 1993, 2017]\n",
        "list2 = [1, 2, 3, 4, 5 ]\n",
        "list3 = [\"a\", \"b\", \"c\", \"d\"]\n",
        "\n",
        "print('List 1:', list1)\n",
        "print('List 2:', list2)\n",
        "print('List 3:', list3)"
      ]
    },
    {
      "cell_type": "markdown",
      "source": [
        "Akses Nilai Dalam List Python\n",
        "\n",
        "Untuk mengakses nilai dalam list python, gunakan tanda kurung siku untuk mengiris beserta indeks atau indeks untuk mendapatkan nilai yang\n",
        "tersedia pada indeks tersebut."
      ],
      "metadata": {
        "id": "7jSWuYG4_zNb"
      }
    },
    {
      "cell_type": "code",
      "source": [
        "list1 = ['fisika', 'kimia', 1993, 2017]\n",
        "list2 = [1, 2, 3, 4, 5, 6, 7 ]\n",
        "\n",
        "print (\"list1[0]: adalah\", list1[0])\n",
        "print (\"list2[1:5]: adalah\", list2[1:5])\n",
        "\n"
      ],
      "metadata": {
        "colab": {
          "base_uri": "https://localhost:8080/"
        },
        "id": "kT6GE_BF_7iS",
        "outputId": "0dd556f0-a122-46b5-c0fd-75de5e1e6f4b"
      },
      "execution_count": 2,
      "outputs": [
        {
          "output_type": "stream",
          "name": "stdout",
          "text": [
            "list1[0]:  fisika\n",
            "list2[1:5]:  [2, 3, 4, 5]\n"
          ]
        }
      ]
    },
    {
      "cell_type": "markdown",
      "source": [
        "Update Nilai Dalam List Python\n",
        "\n",
        "Kita dapat memperbarui satu atau beberapa nilai di dalam list dengan memberikan potongan di sisi kiri operator penugasan, dan kita dapat\n",
        "menambahkan nilai ke dalam list dengan metode append ()."
      ],
      "metadata": {
        "id": "Vp-Qw6ypAG1U"
      }
    },
    {
      "cell_type": "code",
      "source": [
        "list = ['fisika', 'kimia', 1993, 2017]\n",
        "print (\"Nilai ada pada index 2 : \", list[2])\n",
        "\n",
        "list[2] = 2001\n",
        "print (\"Nilai baru ada pada index 2 : \", list[2])"
      ],
      "metadata": {
        "colab": {
          "base_uri": "https://localhost:8080/"
        },
        "id": "120cjt8zAF0h",
        "outputId": "f365044e-0047-4d60-ef82-d843865d9b63"
      },
      "execution_count": 3,
      "outputs": [
        {
          "output_type": "stream",
          "name": "stdout",
          "text": [
            "Nilai ada pada index 2 :  1993\n",
            "Nilai baru ada pada index 2 :  2001\n"
          ]
        }
      ]
    },
    {
      "cell_type": "markdown",
      "source": [
        "Hapus Nilai Dalam List Python\n",
        "\n",
        "Untuk menghapus nilai di dalam list python, kita dapat menggunakan salah satu pernyataan del jika Anda tahu persis elemen yang Anda hapus.\n",
        "Kita dapat menggunakan metode remove() jika Anda tidak tahu persis item mana yang akan dihapus."
      ],
      "metadata": {
        "id": "w9BDb-bOAYZQ"
      }
    },
    {
      "cell_type": "code",
      "source": [
        "list = ['fisika', 'kimia', 1993, 2017]\n",
        "print (list)\n",
        "\n",
        "del list[2]\n",
        "print (\"Setelah dihapus nilai pada index 2 : \", list)"
      ],
      "metadata": {
        "colab": {
          "base_uri": "https://localhost:8080/"
        },
        "id": "NHEtCFWeAecE",
        "outputId": "6b05e53d-6d70-4387-9015-28d0f51a67df"
      },
      "execution_count": 4,
      "outputs": [
        {
          "output_type": "stream",
          "name": "stdout",
          "text": [
            "['fisika', 'kimia', 1993, 2017]\n",
            "Setelah dihapus nilai pada index 2 :  ['fisika', 'kimia', 2017]\n"
          ]
        }
      ]
    },
    {
      "cell_type": "markdown",
      "source": [
        "Slicing pada List Python\n",
        "\n",
        "Karena string mirip dengan list, maka slicing operator [ ] juga dapat digunakan pada string untuk mengambil isinya atau bahkan substring.\n",
        "Sebuah string utuh bersifat mutable (bisa diubah), namun elemennya bersifat immutable (tidak bisa diubah)."
      ],
      "metadata": {
        "id": "aTejot1RAneY"
      }
    },
    {
      "cell_type": "code",
      "source": [
        "L = ['C++', 'Java', 'Python']\n",
        "\n",
        "print('Indeks ke-2:', L[2])\n",
        "print('Indeks ke-2 dari belakang :', L[-2])\n",
        "print('Indeks ke 1 dan 2 :', L[1:])"
      ],
      "metadata": {
        "colab": {
          "base_uri": "https://localhost:8080/"
        },
        "id": "qVQhpECVAv3R",
        "outputId": "a4fd5c27-055e-409d-fc67-8d972821c129"
      },
      "execution_count": 5,
      "outputs": [
        {
          "output_type": "stream",
          "name": "stdout",
          "text": [
            "Indeks ke-2: Python\n",
            "Indeks ke-2 dari belakang : Java\n",
            "Indeks ke 1 dan 2 : ['Java', 'Python']\n"
          ]
        }
      ]
    },
    {
      "cell_type": "markdown",
      "source": [
        "Set\n",
        "\n",
        "Set juga merupakan tipe data untuk mengumpulkan beberapa item dalam satu variabel. Bedanya, item di dalam set bersifat tidak berurutan dan\n",
        "tidak bisa diubah/diduplikasi. Set menggunakan {} sebagai kontainer.\n",
        "Sama seperti list, set juga bisa diisi oleh item dengan berbagai jenis data."
      ],
      "metadata": {
        "id": "itj_d51QA37A"
      }
    },
    {
      "cell_type": "markdown",
      "source": [
        "Mengakses item dalam set\n",
        "\n",
        "Karena set menampung item tidak secara berurutan, maka kita harus memasukan nilai item secara spesifik, dan tidak bisa menggunakan\n",
        "urutan seperti list."
      ],
      "metadata": {
        "id": "J7m4F5tCA-sm"
      }
    },
    {
      "cell_type": "code",
      "source": [
        "a = {\"Rokok\", \"Korek\", \"Asbak\"}\n",
        "print(\"Rokok\" in a)"
      ],
      "metadata": {
        "colab": {
          "base_uri": "https://localhost:8080/"
        },
        "id": "ifHM-dphA8Tz",
        "outputId": "75fd663e-7cfd-4454-e0db-8c7f57a4c447"
      },
      "execution_count": 6,
      "outputs": [
        {
          "output_type": "stream",
          "name": "stdout",
          "text": [
            "True\n"
          ]
        }
      ]
    },
    {
      "cell_type": "markdown",
      "source": [
        "Menghapus item dalam set\n",
        "\n",
        "Untuk menghapus item di dalam set, fungsi yang digunakan adalah (variabel).remove(item). Kita tidak bisa menggunakan .pop(urutan_item)\n",
        "seperti di list, karena set tidak memiliki urutan item."
      ],
      "metadata": {
        "id": "3D2q63ywBJVQ"
      }
    },
    {
      "cell_type": "code",
      "source": [
        "a = {\"Rokok\", \"Korek\", \"Asbak\"}\n",
        "a.remove(\"Korek\")\n",
        "print(a)"
      ],
      "metadata": {
        "colab": {
          "base_uri": "https://localhost:8080/"
        },
        "id": "MBXAGMAcBRvi",
        "outputId": "8ba90ee6-8386-4232-d20c-03d72e937ce6"
      },
      "execution_count": 7,
      "outputs": [
        {
          "output_type": "stream",
          "name": "stdout",
          "text": [
            "{'Rokok', 'Asbak'}\n"
          ]
        }
      ]
    },
    {
      "cell_type": "markdown",
      "source": [
        "Dictionary\n",
        "\n",
        "Dictionary sebagai tipe data berfungsi mengumpulkan beberapa item dalam satu variabel dengan format key:value. Item di dalam dictionary\n",
        "bersifat berurutan, bisa diubah, tetapi tidak bisa diduplikasi. Dictionary menggunakan simbol {item:item} sebagai kontainer.\n",
        "Contoh dictionary yang diisi item dengan berbagai jenis tipe data."
      ],
      "metadata": {
        "id": "0oeTLLA6BXhK"
      }
    },
    {
      "cell_type": "code",
      "source": [
        "x = {\"nama\": \"Budi\", \"umur\": 50, \"tinggi_badan\": 155.5}\n",
        "print(x)"
      ],
      "metadata": {
        "colab": {
          "base_uri": "https://localhost:8080/"
        },
        "id": "f8Z_eDA_BbUP",
        "outputId": "b2927864-88ca-4658-86a1-fa18f7c8b16d"
      },
      "execution_count": 8,
      "outputs": [
        {
          "output_type": "stream",
          "name": "stdout",
          "text": [
            "{'nama': 'Budi', 'umur': 50, 'tinggi_badan': 155.5}\n"
          ]
        }
      ]
    },
    {
      "cell_type": "markdown",
      "source": [
        "Mengakses value dari dictionary\n",
        "\n",
        "Untuk mengakses value dari sebuah key dalam dictionary, gunakan (variabel[key])."
      ],
      "metadata": {
        "id": "328DmV4TBkjB"
      }
    },
    {
      "cell_type": "code",
      "source": [
        "menteri = {\"nama\": \"Budi\", \"umur\": 50}\n",
        "print(menteri[\"umur\"])"
      ],
      "metadata": {
        "colab": {
          "base_uri": "https://localhost:8080/"
        },
        "id": "WgWrcNJdBogm",
        "outputId": "df179be0-09af-4ef8-93e7-6920eaa83f82"
      },
      "execution_count": 9,
      "outputs": [
        {
          "output_type": "stream",
          "name": "stdout",
          "text": [
            "50\n"
          ]
        }
      ]
    },
    {
      "cell_type": "code",
      "source": [
        "#Contoh cara membuat Dictionary pada Python\n",
        "dict = {'Name': 'Zara', 'Age': 7, 'Class': 'First'}\n",
        "print (\"dict['Name']: \", dict['Name'])\n",
        "print (\"dict['Age']: \", dict['Age'])"
      ],
      "metadata": {
        "colab": {
          "base_uri": "https://localhost:8080/"
        },
        "id": "vJzP3mn4Bv9U",
        "outputId": "e5d690fb-337d-4bfa-e351-624a2dccb78c"
      },
      "execution_count": 10,
      "outputs": [
        {
          "output_type": "stream",
          "name": "stdout",
          "text": [
            "dict['Name']:  Zara\n",
            "dict['Age']:  7\n"
          ]
        }
      ]
    },
    {
      "cell_type": "markdown",
      "source": [
        "Update Nilai Dalam Dictionary Python\n",
        "\n",
        "Dapat memperbarui Dictionary dengan menambahkan entri baru atau pasangan nilai kunci, memodifikasi entri yang ada"
      ],
      "metadata": {
        "id": "_Ld9xJDUB41w"
      }
    },
    {
      "cell_type": "markdown",
      "source": [
        "Mengubah item\n",
        "\n",
        "Untuk mengubah item, kita perlu menentukan terlebih dahulu key dari item yang ingin diubah. Sintaksis yang digunakan adalah (variabel[key]) =\n",
        "value_baru."
      ],
      "metadata": {
        "id": "pS-xvw81B8y6"
      }
    },
    {
      "cell_type": "code",
      "source": [
        "#Update dictionary python\n",
        "dict = {'Name': 'Zara', 'Age': 7, 'Class': 'First'}\n",
        "dict['Age'] = 8; # Mengubah entri yang sudah ada\n",
        "dict['School'] = \"DPS School\" # Menambah entri baru\n",
        "print (\"dict['Age']: \", dict['Age'])\n",
        "print (\"dict['School']: \", dict['School'])\n",
        "\n",
        "menteri = {\"nama\": \"Budi\", \"umur\": 50}\n",
        "menteri[\"nama\"] = \"Adi\"\n",
        "print(menteri)"
      ],
      "metadata": {
        "colab": {
          "base_uri": "https://localhost:8080/"
        },
        "id": "anCv9xlNB17l",
        "outputId": "78152416-aaed-4377-d714-5658fb1ad72d"
      },
      "execution_count": 12,
      "outputs": [
        {
          "output_type": "stream",
          "name": "stdout",
          "text": [
            "dict['Age']:  8\n",
            "dict['School']:  DPS School\n",
            "{'nama': 'Adi', 'umur': 50}\n"
          ]
        }
      ]
    },
    {
      "cell_type": "markdown",
      "source": [
        "Menambah item\n",
        "\n",
        "Menambah item memiliki langkah yang sama dengan mengubah item. Bedanya, key yang dimasukkan adalah key baru yang belum ada di\n",
        "dalam dictionary. Sintaksis yang digunakan adalah (variabel[key_baru]) = value_baru."
      ],
      "metadata": {
        "id": "RcMJ1SoGCNRG"
      }
    },
    {
      "cell_type": "code",
      "source": [
        "menteri = {\"nama\": \"Budi\", \"umur\": 50}\n",
        "menteri[\"kementerian\"] = \"Setneg\"\n",
        "print(menteri)"
      ],
      "metadata": {
        "colab": {
          "base_uri": "https://localhost:8080/"
        },
        "id": "qeuQZxLHCWzn",
        "outputId": "4873cb07-27c5-4d5a-d323-8275ad418a09"
      },
      "execution_count": 13,
      "outputs": [
        {
          "output_type": "stream",
          "name": "stdout",
          "text": [
            "{'nama': 'Budi', 'umur': 50, 'kementerian': 'Setneg'}\n"
          ]
        }
      ]
    },
    {
      "cell_type": "markdown",
      "source": [
        "Menghapus item\n",
        "\n",
        "Untuk menghapus item dalam dictionary, kita menggunakan fungsi .pop dengan sintaksis (variabel).pop(key_yang_ingin_dihapus)."
      ],
      "metadata": {
        "id": "H7tlm_RiCbQ1"
      }
    },
    {
      "cell_type": "code",
      "source": [
        "menteri = {\"nama\": \"Budi\", \"umur\": 50, \"kementerian\": \"Setneg\"}\n",
        "print(menteri.pop(\"kementerian\"))"
      ],
      "metadata": {
        "colab": {
          "base_uri": "https://localhost:8080/"
        },
        "id": "An2LsW59CY3w",
        "outputId": "a8c64337-2a9a-4840-d93b-d03fd6683113"
      },
      "execution_count": 14,
      "outputs": [
        {
          "output_type": "stream",
          "name": "stdout",
          "text": [
            "Setneg\n"
          ]
        }
      ]
    },
    {
      "cell_type": "code",
      "source": [
        "#Contoh cara menghapus pada Dictionary Python\n",
        "dict = {'Name': 'Zara', 'Age': 7, 'Class': 'First'}\n",
        "del dict['Name'] # hapus entri dengan key 'Name'\n",
        "dict.clear() # hapus semua entri di dict\n",
        "del dict # hapus dictionary yang sudah ada\n",
        "print (\"dict['Age']: \", dict['Age'])\n",
        "print (\"dict['School']: \", dict['School'])"
      ],
      "metadata": {
        "colab": {
          "base_uri": "https://localhost:8080/"
        },
        "id": "POA0bgyRCu2i",
        "outputId": "7e9c907f-b353-419f-fb1f-9704e4ba769c"
      },
      "execution_count": 15,
      "outputs": [
        {
          "output_type": "stream",
          "name": "stdout",
          "text": [
            "dict['Age']:  dict['Age']\n",
            "dict['School']:  dict['School']\n"
          ]
        }
      ]
    }
  ]
}