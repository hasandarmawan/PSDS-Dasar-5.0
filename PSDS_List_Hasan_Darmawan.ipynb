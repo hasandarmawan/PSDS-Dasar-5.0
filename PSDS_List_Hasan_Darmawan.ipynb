{
  "nbformat": 4,
  "nbformat_minor": 0,
  "metadata": {
    "colab": {
      "provenance": []
    },
    "kernelspec": {
      "name": "python3",
      "display_name": "Python 3"
    },
    "language_info": {
      "name": "python"
    }
  },
  "cells": [
    {
      "cell_type": "markdown",
      "source": [
        "**List **\n",
        "\n",
        "List adalah jenis kumpulan data terurut (ordered sequence), bisa ditambahkan elemen baru atau menghapus elemen (changeable), dan merupakan salah satu variabel yang sering digunakan padaPython. Serupa, namun tidak sama dengan array pada bahasa pemrograman lainnya. Bedanya, elemen list pada python tidak harus memiliki tipe data yang sama. Mendeklarasikan list cukup mudah dengan kurung siku dan elemen di dalamnya dipisahkan oleh koma.\n",
        "\n",
        "Setap data di dalamnya dapat diakses dengan indeks yang dimulai dari indeks 0."
      ],
      "metadata": {
        "id": "X3c-oWWaCQ5Y"
      }
    },
    {
      "cell_type": "code",
      "source": [
        "# contoh list\n",
        "L1 = [1, 4,2,13]\n",
        "\n",
        "## syntax print(type(nama list)) digunakan untuk menampilkan tipe data\n",
        "print(type(L1))\n",
        "\n",
        "L2 = ['a','python',3]\n",
        "print(type(L2))\n",
        "\n",
        "\n",
        "## syntax print(nama list) digunakan untuk menampilkan elemen pada list yang dipanggil\n",
        "print(L1)\n",
        "print(L2)\n"
      ],
      "metadata": {
        "colab": {
          "base_uri": "https://localhost:8080/"
        },
        "id": "PIup91zsXnjm",
        "outputId": "df9da401-f6da-4abf-c33e-945a23800653"
      },
      "execution_count": 3,
      "outputs": [
        {
          "output_type": "stream",
          "name": "stdout",
          "text": [
            "<class 'list'>\n",
            "<class 'list'>\n",
            "[1, 4, 2, 13]\n",
            "['a', 'python', 3]\n"
          ]
        }
      ]
    },
    {
      "cell_type": "code",
      "source": [
        "#  sifat-sifat list\n",
        "\n",
        "# 1. Terurut/ordered\n",
        "L1 = [1, 4,2,13]\n",
        "\n",
        "## syntax print(L1[0:4]) digunakan untuk menampilkan elemen pada list yang dipanggil secara berurutan (tanda : menyatakan 'sampai dengan')\n",
        "print('memanggil list L1 dengan indeks urutan',L1[0:4])\n",
        "\n",
        "# 2. Bisa diganti (Mutable)\n",
        "L1[1]=2\n",
        "\n",
        "## syntax L1[1]=2 menyatakan bahwa elemen dengan indeks 1 pada list (L1) akan diganti dengan elemen angka, yaitu 2\n",
        "print('List L1 setlah diganti elemennya',L1)\n",
        "\n",
        "# 3. Dapat diindeks/slicing\n",
        "\n",
        "L1 = [1,'dua', True, 2+3j]\n",
        "\n",
        "print('Slicing List L1 ',L1[3])\n",
        "\n",
        "# 4. Dapat diizinkan untuk diduplikasi\n",
        "\n",
        "L1=[1, 'Dua', True, 2+3j, 2+3j]\n",
        "print('Duplikasi pada List L1 ', L1)\n",
        "\n",
        "# 5. Dapat mengubah data dengan mengganti elemen tertentu\n",
        "L1=[1, 'Dua', True, 2+3j]\n",
        "L1[2]=3\n",
        "print('Data setelah diubah ', L1)\n",
        "\n",
        "# 6. Dapat menambahkan elemen baru pada data\n",
        "L1=[1, 'Dua', True, 2+3j]\n",
        "L1.append(20)\n",
        "print('Data setelah ditambahkan elemennya ', L1)\n",
        "\n",
        "# 7. Dapat menghapus elemen pada data dengan syntax nama list.remove() = menghapus berdasarkan nama objek\n",
        "L1=[1, 'Dua', True, 2+3j]\n",
        "L1.remove(2+3j)\n",
        "print('Data setelah dihapus elemennya ', L1)\n",
        "\n",
        "# 8. Menambahkan data menggunakkan fungsi extend (menambahkan elemen baru dengan jenis tipe data string pada list, namun elemen tersebut ditambahkan secara individual)\n",
        "L1 = [1, 'Dua', True, 2+3j]\n",
        "L1.extend('nanas')\n",
        "print(L1)\n",
        "\n",
        "L1=[1, 'Dua', True, 2+3j]\n",
        "L1.extend(['nanas'])\n",
        "print(L1)\n",
        "\n",
        "\n",
        "# 9. Menambahkan elemen pada data dengan fungsi insert (menambahkan elemen baru di list pada indeks tertentu)\n",
        "\n",
        "L1 = [1, 'Dua', True,2+3j]\n",
        "L1.insert(2,5)\n",
        "\n",
        "## syntax L1.insert(indeks pada list, elemen yang ingin ditambahkan)\n",
        "print(L1)\n",
        "\n",
        "\n",
        "# 10. Menghapus elemen dari list menggunakkan fungsi pop() = (menghapus berdasarkan indeks)\n",
        "L1 = [1, 'Dua', True,2+3j]\n",
        "L1.pop(2)\n",
        "print(L1)\n",
        "\n",
        "L1 = [1, 'Dua', True,2+3j]\n",
        "L1.pop()\n",
        "\n",
        "'''\n",
        "syntax L1.pop() digunakan untuk menghapus elemen pada list L1,\n",
        "namun karena tidak diberikan indeks yang ingin dihapus maka secara otomatis indeks yang dihapus adalah yang terakhir\n",
        "'''\n",
        "\n",
        "print(L1)\n"
      ],
      "metadata": {
        "colab": {
          "base_uri": "https://localhost:8080/"
        },
        "id": "fQJ2RtyPVWDt",
        "outputId": "60f2b104-ecb0-41a3-ff4b-74d97e178ac5"
      },
      "execution_count": 24,
      "outputs": [
        {
          "output_type": "stream",
          "name": "stdout",
          "text": [
            "memanggil list L1 dengan indeks urutan [1, 4, 2, 13]\n",
            "List L1 setlah diganti elemennya [1, 2, 2, 13]\n",
            "Slicing List L1  (2+3j)\n",
            "Duplikasi pada List L1  [1, 'Dua', True, (2+3j), (2+3j)]\n",
            "Data setelah diubah  [1, 'Dua', 3, (2+3j)]\n",
            "Data setelah ditambahkan elemennya  [1, 'Dua', True, (2+3j), 20]\n",
            "Data setelah dihapus elemennya  [1, 'Dua', True]\n",
            "[1, 'Dua', True, (2+3j), 'n', 'a', 'n', 'a', 's']\n",
            "[1, 'Dua', True, (2+3j), 'nanas']\n",
            "[1, 'Dua', 5, True, (2+3j)]\n",
            "[1, 'Dua', (2+3j)]\n",
            "[1, 'Dua', True]\n"
          ]
        }
      ]
    },
    {
      "cell_type": "code",
      "source": [
        "# Latihan 1 (Buat list)\n",
        "\n",
        "L= [1, 2, 3j-1, 4.8, 5, 6, False]\n",
        "print(L)"
      ],
      "metadata": {
        "colab": {
          "base_uri": "https://localhost:8080/"
        },
        "id": "FY3GRiZmb45W",
        "outputId": "87a9198b-08eb-4c23-eecb-56da15ae9e1b"
      },
      "execution_count": null,
      "outputs": [
        {
          "output_type": "stream",
          "name": "stdout",
          "text": [
            "[1, 2, (-1+3j), 4.8, 5, 6, False]\n"
          ]
        }
      ]
    },
    {
      "cell_type": "code",
      "source": [
        "# Latihan 2 (Mengganti elemen pada list yang telah dibuat)\n",
        "\n",
        "\n",
        "L= [1, 2, 3j-1, 4.8, 5, 6, False]\n",
        "L.append(90)\n",
        "print(L)\n",
        "\n",
        "L= [1, 2, 3j-1, 4.8, 5, 6, False]\n",
        "L.remove(5)\n",
        "print(L)\n",
        "\n",
        "L[0]=0\n",
        "print(L)\n",
        "\n",
        "L= [1, 2, 3j-1, 4.8, 5, 6, False]\n",
        "L.insert(1,1)\n",
        "print(L)\n"
      ],
      "metadata": {
        "colab": {
          "base_uri": "https://localhost:8080/"
        },
        "id": "8R-Nzaf4e6tO",
        "outputId": "26206eff-1994-45c7-9589-d90d159ee42f"
      },
      "execution_count": 33,
      "outputs": [
        {
          "output_type": "stream",
          "name": "stdout",
          "text": [
            "[1, 2, (-1+3j), 4.8, 5, 6, False, 90]\n",
            "[1, 2, (-1+3j), 4.8, 6, False]\n",
            "[0, 2, (-1+3j), 4.8, 6, False]\n",
            "[1, 1, 2, (-1+3j), 4.8, 5, 6, False]\n"
          ]
        }
      ]
    }
  ]
}